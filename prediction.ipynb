{
 "cells": [
  {
   "cell_type": "code",
   "execution_count": 88,
   "id": "f73220e4-18a2-4306-93e8-316ce39f7e6b",
   "metadata": {},
   "outputs": [],
   "source": [
    "import numpy as np\n",
    "import tensorflow as tf\n",
    "from tensorflow.keras.datasets import imdb\n",
    "from tensorflow.keras.preprocessing import sequence\n",
    "from tensorflow.keras.models import load_model"
   ]
  },
  {
   "cell_type": "code",
   "execution_count": 89,
   "id": "18aaa02c-fc13-41c6-8ecc-c1369035aa80",
   "metadata": {},
   "outputs": [],
   "source": [
    "# Load the IMDB dateset word index\n",
    "word_index=imdb.get_word_index()\n",
    "reverse_word_index={value:key for key,value in  word_index.items()}"
   ]
  },
  {
   "cell_type": "code",
   "execution_count": 90,
   "id": "eff476d8-96fa-46fe-bfbb-adfbd224d5a4",
   "metadata": {},
   "outputs": [
    {
     "name": "stderr",
     "output_type": "stream",
     "text": [
      "WARNING:absl:Compiled the loaded model, but the compiled metrics have yet to be built. `model.compile_metrics` will be empty until you train or evaluate the model.\n"
     ]
    }
   ],
   "source": [
    "# load the pre-trained model with RelU activation\n",
    "model=load_model('simple_rnn_imdb.h5')"
   ]
  },
  {
   "cell_type": "code",
   "execution_count": 91,
   "id": "c8c8b725-24b3-4e7e-97f4-4aaaf4f08a42",
   "metadata": {},
   "outputs": [
    {
     "data": {
      "text/html": [
       "<pre style=\"white-space:pre;overflow-x:auto;line-height:normal;font-family:Menlo,'DejaVu Sans Mono',consolas,'Courier New',monospace\"><span style=\"font-weight: bold\">Model: \"sequential_1\"</span>\n",
       "</pre>\n"
      ],
      "text/plain": [
       "\u001b[1mModel: \"sequential_1\"\u001b[0m\n"
      ]
     },
     "metadata": {},
     "output_type": "display_data"
    },
    {
     "data": {
      "text/html": [
       "<pre style=\"white-space:pre;overflow-x:auto;line-height:normal;font-family:Menlo,'DejaVu Sans Mono',consolas,'Courier New',monospace\">┏━━━━━━━━━━━━━━━━━━━━━━━━━━━━━━━━━━━━━━┳━━━━━━━━━━━━━━━━━━━━━━━━━━━━━┳━━━━━━━━━━━━━━━━━┓\n",
       "┃<span style=\"font-weight: bold\"> Layer (type)                         </span>┃<span style=\"font-weight: bold\"> Output Shape                </span>┃<span style=\"font-weight: bold\">         Param # </span>┃\n",
       "┡━━━━━━━━━━━━━━━━━━━━━━━━━━━━━━━━━━━━━━╇━━━━━━━━━━━━━━━━━━━━━━━━━━━━━╇━━━━━━━━━━━━━━━━━┩\n",
       "│ embedding_1 (<span style=\"color: #0087ff; text-decoration-color: #0087ff\">Embedding</span>)              │ (<span style=\"color: #00d7ff; text-decoration-color: #00d7ff\">None</span>, <span style=\"color: #00af00; text-decoration-color: #00af00\">500</span>, <span style=\"color: #00af00; text-decoration-color: #00af00\">128</span>)            │       <span style=\"color: #00af00; text-decoration-color: #00af00\">1,280,000</span> │\n",
       "├──────────────────────────────────────┼─────────────────────────────┼─────────────────┤\n",
       "│ simple_rnn_1 (<span style=\"color: #0087ff; text-decoration-color: #0087ff\">SimpleRNN</span>)             │ (<span style=\"color: #00d7ff; text-decoration-color: #00d7ff\">None</span>, <span style=\"color: #00af00; text-decoration-color: #00af00\">128</span>)                 │          <span style=\"color: #00af00; text-decoration-color: #00af00\">32,896</span> │\n",
       "├──────────────────────────────────────┼─────────────────────────────┼─────────────────┤\n",
       "│ dense_1 (<span style=\"color: #0087ff; text-decoration-color: #0087ff\">Dense</span>)                      │ (<span style=\"color: #00d7ff; text-decoration-color: #00d7ff\">None</span>, <span style=\"color: #00af00; text-decoration-color: #00af00\">1</span>)                   │             <span style=\"color: #00af00; text-decoration-color: #00af00\">129</span> │\n",
       "└──────────────────────────────────────┴─────────────────────────────┴─────────────────┘\n",
       "</pre>\n"
      ],
      "text/plain": [
       "┏━━━━━━━━━━━━━━━━━━━━━━━━━━━━━━━━━━━━━━┳━━━━━━━━━━━━━━━━━━━━━━━━━━━━━┳━━━━━━━━━━━━━━━━━┓\n",
       "┃\u001b[1m \u001b[0m\u001b[1mLayer (type)                        \u001b[0m\u001b[1m \u001b[0m┃\u001b[1m \u001b[0m\u001b[1mOutput Shape               \u001b[0m\u001b[1m \u001b[0m┃\u001b[1m \u001b[0m\u001b[1m        Param #\u001b[0m\u001b[1m \u001b[0m┃\n",
       "┡━━━━━━━━━━━━━━━━━━━━━━━━━━━━━━━━━━━━━━╇━━━━━━━━━━━━━━━━━━━━━━━━━━━━━╇━━━━━━━━━━━━━━━━━┩\n",
       "│ embedding_1 (\u001b[38;5;33mEmbedding\u001b[0m)              │ (\u001b[38;5;45mNone\u001b[0m, \u001b[38;5;34m500\u001b[0m, \u001b[38;5;34m128\u001b[0m)            │       \u001b[38;5;34m1,280,000\u001b[0m │\n",
       "├──────────────────────────────────────┼─────────────────────────────┼─────────────────┤\n",
       "│ simple_rnn_1 (\u001b[38;5;33mSimpleRNN\u001b[0m)             │ (\u001b[38;5;45mNone\u001b[0m, \u001b[38;5;34m128\u001b[0m)                 │          \u001b[38;5;34m32,896\u001b[0m │\n",
       "├──────────────────────────────────────┼─────────────────────────────┼─────────────────┤\n",
       "│ dense_1 (\u001b[38;5;33mDense\u001b[0m)                      │ (\u001b[38;5;45mNone\u001b[0m, \u001b[38;5;34m1\u001b[0m)                   │             \u001b[38;5;34m129\u001b[0m │\n",
       "└──────────────────────────────────────┴─────────────────────────────┴─────────────────┘\n"
      ]
     },
     "metadata": {},
     "output_type": "display_data"
    },
    {
     "data": {
      "text/html": [
       "<pre style=\"white-space:pre;overflow-x:auto;line-height:normal;font-family:Menlo,'DejaVu Sans Mono',consolas,'Courier New',monospace\"><span style=\"font-weight: bold\"> Total params: </span><span style=\"color: #00af00; text-decoration-color: #00af00\">1,313,027</span> (5.01 MB)\n",
       "</pre>\n"
      ],
      "text/plain": [
       "\u001b[1m Total params: \u001b[0m\u001b[38;5;34m1,313,027\u001b[0m (5.01 MB)\n"
      ]
     },
     "metadata": {},
     "output_type": "display_data"
    },
    {
     "data": {
      "text/html": [
       "<pre style=\"white-space:pre;overflow-x:auto;line-height:normal;font-family:Menlo,'DejaVu Sans Mono',consolas,'Courier New',monospace\"><span style=\"font-weight: bold\"> Trainable params: </span><span style=\"color: #00af00; text-decoration-color: #00af00\">1,313,025</span> (5.01 MB)\n",
       "</pre>\n"
      ],
      "text/plain": [
       "\u001b[1m Trainable params: \u001b[0m\u001b[38;5;34m1,313,025\u001b[0m (5.01 MB)\n"
      ]
     },
     "metadata": {},
     "output_type": "display_data"
    },
    {
     "data": {
      "text/html": [
       "<pre style=\"white-space:pre;overflow-x:auto;line-height:normal;font-family:Menlo,'DejaVu Sans Mono',consolas,'Courier New',monospace\"><span style=\"font-weight: bold\"> Non-trainable params: </span><span style=\"color: #00af00; text-decoration-color: #00af00\">0</span> (0.00 B)\n",
       "</pre>\n"
      ],
      "text/plain": [
       "\u001b[1m Non-trainable params: \u001b[0m\u001b[38;5;34m0\u001b[0m (0.00 B)\n"
      ]
     },
     "metadata": {},
     "output_type": "display_data"
    },
    {
     "data": {
      "text/html": [
       "<pre style=\"white-space:pre;overflow-x:auto;line-height:normal;font-family:Menlo,'DejaVu Sans Mono',consolas,'Courier New',monospace\"><span style=\"font-weight: bold\"> Optimizer params: </span><span style=\"color: #00af00; text-decoration-color: #00af00\">2</span> (12.00 B)\n",
       "</pre>\n"
      ],
      "text/plain": [
       "\u001b[1m Optimizer params: \u001b[0m\u001b[38;5;34m2\u001b[0m (12.00 B)\n"
      ]
     },
     "metadata": {},
     "output_type": "display_data"
    }
   ],
   "source": [
    "model.summary()"
   ]
  },
  {
   "cell_type": "code",
   "execution_count": 92,
   "id": "8ee98371-6df6-4638-b00b-d8eeff0458bd",
   "metadata": {},
   "outputs": [
    {
     "data": {
      "text/plain": [
       "[array([[ 0.00360293, -0.04724076, -0.00636177, ...,  0.0501289 ,\n",
       "          0.03515252,  0.00402705],\n",
       "        [ 0.02371501, -0.02856575, -0.01439023, ...,  0.00484169,\n",
       "         -0.01945996,  0.04501966],\n",
       "        [-0.02243872,  0.01674434,  0.03295131, ..., -0.0109915 ,\n",
       "          0.00106252, -0.02532815],\n",
       "        ...,\n",
       "        [-0.06485824, -0.01780481, -0.01711809, ..., -0.02957753,\n",
       "         -0.02542059,  0.04370107],\n",
       "        [-0.01419292,  0.0243709 , -0.0093105 , ...,  0.02032012,\n",
       "          0.02811681, -0.02920331],\n",
       "        [ 0.01037328,  0.00382223, -0.04239489, ...,  0.03727791,\n",
       "         -0.04088555,  0.00827561]], shape=(10000, 128), dtype=float32),\n",
       " array([[-0.09289397, -0.02975043, -0.09221038, ..., -0.07679912,\n",
       "          0.01291739, -0.10522214],\n",
       "        [-0.04457122, -0.06225269,  0.04541303, ..., -0.10383682,\n",
       "         -0.01106694, -0.04931725],\n",
       "        [ 0.03112775,  0.08282963,  0.11165565, ..., -0.12608567,\n",
       "         -0.16389875,  0.0194709 ],\n",
       "        ...,\n",
       "        [-0.14976591,  0.00952506, -0.12061727, ..., -0.11312488,\n",
       "          0.12305462,  0.12665804],\n",
       "        [-0.07662199,  0.03990331, -0.06836704, ..., -0.1732306 ,\n",
       "          0.12363039,  0.09276198],\n",
       "        [-0.0135153 ,  0.07071098, -0.06887119, ...,  0.06223123,\n",
       "         -0.07100998,  0.08090307]], shape=(128, 128), dtype=float32),\n",
       " array([[-1.01119325e-01, -3.97963785e-02,  2.63604969e-02, ...,\n",
       "          1.15047127e-01, -7.10923970e-02,  2.06099868e-01],\n",
       "        [ 9.36695933e-02,  6.54145852e-02, -3.49443480e-02, ...,\n",
       "          3.84677760e-02, -6.22363947e-02,  1.77998513e-01],\n",
       "        [ 4.74844836e-02, -4.68101948e-02,  5.06576821e-02, ...,\n",
       "         -1.74419045e-01,  1.68255314e-01, -1.80194780e-01],\n",
       "        ...,\n",
       "        [-5.05643040e-02, -1.24368281e-03, -6.93383366e-02, ...,\n",
       "          3.59597839e-02, -1.61032304e-01, -8.65911990e-02],\n",
       "        [ 1.22137144e-01, -2.42416486e-01,  6.43779784e-02, ...,\n",
       "         -1.80920020e-01, -9.89713743e-02,  3.65238381e-03],\n",
       "        [-3.62063758e-02, -2.99806017e-02,  3.18050049e-02, ...,\n",
       "         -7.45488033e-02,  1.14706540e-02,  2.24815332e-04]],\n",
       "       shape=(128, 128), dtype=float32),\n",
       " array([ 1.39503146e-03, -3.27716842e-02, -1.26613053e-02, -1.73030160e-02,\n",
       "        -2.98246574e-02, -1.71203781e-02, -1.58267450e-02, -1.34474738e-02,\n",
       "        -1.46797067e-02, -1.80753116e-02, -3.93406954e-03, -6.83911843e-03,\n",
       "        -1.23131648e-02,  2.94676656e-03, -9.10457224e-04, -1.65011361e-02,\n",
       "        -1.83384791e-02, -1.87728237e-02, -2.21531354e-02, -3.60503723e-03,\n",
       "        -1.62259974e-02, -4.62193750e-02, -4.70584910e-03, -6.56435452e-03,\n",
       "        -2.34586978e-03, -1.91665348e-02, -1.77999807e-03, -1.95484105e-02,\n",
       "        -4.24151458e-02,  7.45774107e-03, -3.01427790e-03,  3.04957246e-03,\n",
       "        -3.06479190e-03, -1.83871370e-02, -1.78670455e-02, -3.33514586e-02,\n",
       "        -9.91950801e-05, -1.46287652e-02, -8.00551288e-03, -2.65958384e-02,\n",
       "         1.19967340e-02, -2.92089637e-02, -5.05957869e-04, -2.38996521e-02,\n",
       "         5.71703631e-03, -2.17165872e-02, -7.96732679e-03, -1.76061206e-02,\n",
       "        -9.38930456e-03, -1.56389712e-03, -4.94838730e-02, -2.19491590e-02,\n",
       "        -2.17645541e-02, -1.41871627e-02, -1.83706731e-02, -1.67770702e-02,\n",
       "        -1.80898029e-02, -1.69965103e-02, -2.35674884e-02, -1.48682138e-02,\n",
       "         1.37098543e-02, -3.87805663e-02,  2.20405869e-03, -7.29507906e-03,\n",
       "        -1.15588382e-02, -4.05958705e-02, -2.66657081e-02, -3.03959232e-02,\n",
       "        -2.49654353e-02,  3.80082838e-02, -2.56672837e-02, -2.47445013e-02,\n",
       "        -2.15300452e-02, -3.68620604e-02, -2.07865220e-02, -1.70078501e-02,\n",
       "        -1.93598997e-02,  1.16441948e-02, -8.50743242e-03, -2.01508421e-02,\n",
       "        -1.31902946e-02, -4.08401415e-02,  7.16828182e-03,  2.93360800e-02,\n",
       "        -1.59160045e-04, -1.19881704e-02, -1.22385155e-02,  8.58041551e-03,\n",
       "        -7.51652149e-03, -4.74322075e-03, -6.08986057e-03, -3.24193314e-02,\n",
       "        -3.04418784e-02,  1.77991353e-02,  2.83092260e-04, -2.74895076e-02,\n",
       "        -8.22388101e-03, -7.25151366e-03, -6.68442296e-03, -3.64411995e-02,\n",
       "        -1.91620702e-03, -2.41386723e-02,  6.01567049e-03, -1.66345630e-02,\n",
       "        -2.14692783e-02, -1.16013885e-02,  2.92549306e-03, -3.40726487e-02,\n",
       "        -2.03765146e-02, -1.99589841e-02, -2.65175775e-02, -2.07100436e-02,\n",
       "        -3.76707613e-02, -3.81106958e-02, -2.61683613e-02, -4.00777645e-02,\n",
       "        -8.62076413e-03, -2.91727185e-02, -1.34387147e-02, -1.01908455e-02,\n",
       "        -1.95422377e-02, -2.64153611e-02, -1.22029185e-02, -1.92398485e-02,\n",
       "        -1.05428938e-02, -3.22153829e-02,  1.57312602e-02, -8.58636759e-03],\n",
       "       dtype=float32),\n",
       " array([[ 0.07080477],\n",
       "        [-0.14248995],\n",
       "        [-0.05365701],\n",
       "        [ 0.1930486 ],\n",
       "        [ 0.11151443],\n",
       "        [-0.12841614],\n",
       "        [-0.13450676],\n",
       "        [-0.12833317],\n",
       "        [-0.17277528],\n",
       "        [-0.09567845],\n",
       "        [-0.0467159 ],\n",
       "        [-0.01396505],\n",
       "        [ 0.12132081],\n",
       "        [ 0.03538484],\n",
       "        [ 0.10815427],\n",
       "        [ 0.13008483],\n",
       "        [-0.02720274],\n",
       "        [-0.11634046],\n",
       "        [-0.05312957],\n",
       "        [ 0.12011723],\n",
       "        [-0.15084493],\n",
       "        [-0.10414188],\n",
       "        [ 0.089309  ],\n",
       "        [ 0.03995634],\n",
       "        [ 0.10803214],\n",
       "        [-0.00705734],\n",
       "        [-0.15424146],\n",
       "        [ 0.1679765 ],\n",
       "        [-0.10775765],\n",
       "        [ 0.01614106],\n",
       "        [ 0.15640795],\n",
       "        [ 0.03061029],\n",
       "        [ 0.00932807],\n",
       "        [-0.08480453],\n",
       "        [ 0.09388888],\n",
       "        [-0.1499855 ],\n",
       "        [ 0.10405879],\n",
       "        [-0.07397848],\n",
       "        [ 0.18036726],\n",
       "        [ 0.07668461],\n",
       "        [-0.12585372],\n",
       "        [ 0.11974192],\n",
       "        [ 0.06361422],\n",
       "        [-0.00476811],\n",
       "        [-0.03359707],\n",
       "        [-0.06282563],\n",
       "        [ 0.04518825],\n",
       "        [-0.01134721],\n",
       "        [-0.06968275],\n",
       "        [ 0.14667016],\n",
       "        [ 0.16143472],\n",
       "        [-0.14349227],\n",
       "        [ 0.0008916 ],\n",
       "        [-0.15575144],\n",
       "        [-0.11932194],\n",
       "        [ 0.10038979],\n",
       "        [ 0.0431394 ],\n",
       "        [-0.01826794],\n",
       "        [ 0.04922187],\n",
       "        [-0.09734413],\n",
       "        [ 0.0152721 ],\n",
       "        [ 0.03627833],\n",
       "        [ 0.03560384],\n",
       "        [ 0.16740689],\n",
       "        [ 0.03724409],\n",
       "        [ 0.02898732],\n",
       "        [-0.06198092],\n",
       "        [ 0.10026898],\n",
       "        [-0.15458876],\n",
       "        [ 0.11488174],\n",
       "        [ 0.11813385],\n",
       "        [ 0.05815175],\n",
       "        [-0.13926136],\n",
       "        [ 0.10014837],\n",
       "        [ 0.0912566 ],\n",
       "        [ 0.1307644 ],\n",
       "        [ 0.12717816],\n",
       "        [ 0.03938433],\n",
       "        [-0.20543675],\n",
       "        [-0.13550985],\n",
       "        [-0.10892751],\n",
       "        [-0.10756388],\n",
       "        [ 0.08384519],\n",
       "        [ 0.04209566],\n",
       "        [-0.11894117],\n",
       "        [-0.12584937],\n",
       "        [ 0.16315085],\n",
       "        [ 0.00780972],\n",
       "        [ 0.0590177 ],\n",
       "        [ 0.08750479],\n",
       "        [ 0.12845363],\n",
       "        [-0.141729  ],\n",
       "        [ 0.03282398],\n",
       "        [ 0.18583736],\n",
       "        [-0.07441685],\n",
       "        [ 0.00343095],\n",
       "        [-0.16174768],\n",
       "        [-0.07135007],\n",
       "        [ 0.00168119],\n",
       "        [-0.10305111],\n",
       "        [ 0.17879224],\n",
       "        [ 0.02130372],\n",
       "        [ 0.07440851],\n",
       "        [-0.08691785],\n",
       "        [-0.01600287],\n",
       "        [-0.07658082],\n",
       "        [-0.17835249],\n",
       "        [ 0.1309982 ],\n",
       "        [-0.01402154],\n",
       "        [-0.17067984],\n",
       "        [ 0.04486511],\n",
       "        [ 0.11971037],\n",
       "        [ 0.07046156],\n",
       "        [-0.13617237],\n",
       "        [ 0.20256683],\n",
       "        [ 0.10175254],\n",
       "        [-0.06285512],\n",
       "        [ 0.13777287],\n",
       "        [-0.09421762],\n",
       "        [ 0.02551583],\n",
       "        [ 0.11852013],\n",
       "        [-0.0755616 ],\n",
       "        [-0.00115016],\n",
       "        [-0.14431357],\n",
       "        [ 0.12664394],\n",
       "        [-0.19979757],\n",
       "        [-0.01264271],\n",
       "        [-0.1538294 ]], dtype=float32),\n",
       " array([0.0064568], dtype=float32)]"
      ]
     },
     "execution_count": 92,
     "metadata": {},
     "output_type": "execute_result"
    }
   ],
   "source": [
    "# Gives us all the weights\n",
    "model.get_weights()"
   ]
  },
  {
   "cell_type": "code",
   "execution_count": 93,
   "id": "40657e40-fc7c-4750-8ec0-1bb97212b4fa",
   "metadata": {},
   "outputs": [],
   "source": [
    "# step2:Helper functions\n",
    "# Function to decode reviews\n",
    "def decode_review(encoded_review):\n",
    "    return ' '.join([reverse_word_index.get(i-3,'?') for i in encoded_review])\n",
    "\n",
    "# Function to preprocess user input\n",
    "def preprocess_text(text):\n",
    "    words=text.lower().split()\n",
    "    encoded_review = []\n",
    "    for word in words:\n",
    "        index = word_index.get(word, 2) + 3  # +3 for IMDB offset\n",
    "        # +3 is used because the first 3 indices (0, 1, 2) are reserved for special tokens in the IMDB dataset.\n",
    "\n",
    "# So, the IMDB word indices start from 1, but when you actually train or predict,\n",
    "# the model expects all real words to start from index 3.\n",
    "        if index >= 10000:  # outside vocabulary\n",
    "            index = 2  # map to <UNK> token\n",
    "        encoded_review.append(index)\n",
    "    padded_review=sequence.pad_sequences([encoded_review],maxlen=500)\n",
    "    return padded_review"
   ]
  },
  {
   "cell_type": "code",
   "execution_count": 94,
   "id": "1d99509c-ad8b-489c-9785-cf68f63c336f",
   "metadata": {},
   "outputs": [],
   "source": [
    "# Prediction function\n",
    "def predict_sentiment(review):\n",
    "    preprocessed_input=preprocess_text(review)\n",
    "    prediction=model.predict(preprocessed_input)\n",
    "    sentiment='Positive' if prediction[0][0] >0.5 else 'Negative'\n",
    "    return sentiment,prediction[0][0]"
   ]
  },
  {
   "cell_type": "code",
   "execution_count": 95,
   "id": "8a4200e4-320c-42c5-8276-48b23e67e4bb",
   "metadata": {},
   "outputs": [
    {
     "name": "stdout",
     "output_type": "stream",
     "text": [
      "\u001b[1m1/1\u001b[0m \u001b[32m━━━━━━━━━━━━━━━━━━━━\u001b[0m\u001b[37m\u001b[0m \u001b[1m0s\u001b[0m 211ms/step\n",
      "Review :The movie was fantastic! The acting wa great and the plot was thrilling\n",
      "Sentiment :Positive\n",
      "Prediction score: 0.5120401382446289\n"
     ]
    }
   ],
   "source": [
    "# Example Review for prediction\n",
    "example_review=\"The movie was fantastic! The acting wa great and the plot was thrilling\"\n",
    "sentiment,score=predict_sentiment(example_review)\n",
    "print(f\"Review :{example_review}\")\n",
    "print(f\"Sentiment :{sentiment}\")\n",
    "print(f\"Prediction score: {score}\")"
   ]
  }
 ],
 "metadata": {
  "kernelspec": {
   "display_name": "Python 3 (ipykernel)",
   "language": "python",
   "name": "python3"
  },
  "language_info": {
   "codemirror_mode": {
    "name": "ipython",
    "version": 3
   },
   "file_extension": ".py",
   "mimetype": "text/x-python",
   "name": "python",
   "nbconvert_exporter": "python",
   "pygments_lexer": "ipython3",
   "version": "3.11.0"
  }
 },
 "nbformat": 4,
 "nbformat_minor": 5
}
