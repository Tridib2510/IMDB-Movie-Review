{
 "cells": [
  {
   "cell_type": "code",
   "execution_count": null,
   "id": "f73220e4-18a2-4306-93e8-316ce39f7e6b",
   "metadata": {},
   "outputs": [],
   "source": [
    "import numpy as np\n",
    "import tensorflow as tf\n",
    "from tensorflow.keras.datasets import imdb\n",
    "from tensorflow.keras.preprocessing import sequence\n",
    "from tensorflow.keras.models import load_model"
   ]
  },
  {
   "cell_type": "code",
   "execution_count": null,
   "id": "18aaa02c-fc13-41c6-8ecc-c1369035aa80",
   "metadata": {},
   "outputs": [],
   "source": [
    "# Load the IMDB dateset word index\n",
    "word_index=imdb.get_word_index()\n",
    "reverse_word_index={value:key for key,value in  word_index.items()}"
   ]
  },
  {
   "cell_type": "code",
   "execution_count": null,
   "id": "eff476d8-96fa-46fe-bfbb-adfbd224d5a4",
   "metadata": {},
   "outputs": [],
   "source": [
    "# load the pre-trained model with RelU activation\n",
    "model=load_model('simple_rnn_imdb.h5')"
   ]
  },
  {
   "cell_type": "code",
   "execution_count": null,
   "id": "c8c8b725-24b3-4e7e-97f4-4aaaf4f08a42",
   "metadata": {},
   "outputs": [],
   "source": [
    "model.summary()"
   ]
  },
  {
   "cell_type": "code",
   "execution_count": null,
   "id": "8ee98371-6df6-4638-b00b-d8eeff0458bd",
   "metadata": {},
   "outputs": [],
   "source": [
    "# Gives us all the weights\n",
    "model.get_weights()"
   ]
  },
  {
   "cell_type": "code",
   "execution_count": null,
   "id": "40657e40-fc7c-4750-8ec0-1bb97212b4fa",
   "metadata": {},
   "outputs": [],
   "source": [
    "# step2:Helper functions\n",
    "# Function to decode reviews\n",
    "def decode_review(encoded_review):\n",
    "    return ' '.join([reverse_word_index.get(i-3,'?') for i in encoded_review])\n",
    "\n",
    "# Function to preprocess user input\n",
    "def preprocess_text(text):\n",
    "    words=text.lower().split()\n",
    "    encoded_review = []\n",
    "    for word in words:\n",
    "        index = word_index.get(word, 2) + 3  # +3 for IMDB offset\n",
    "        if index >= 10000:  # outside vocabulary\n",
    "            index = 2  # map to <UNK> token\n",
    "        encoded_review.append(index)\n",
    "    padded_review=sequence.pad_sequences([encoded_review],maxlen=500)\n",
    "    return padded_review"
   ]
  },
  {
   "cell_type": "code",
   "execution_count": null,
   "id": "1d99509c-ad8b-489c-9785-cf68f63c336f",
   "metadata": {},
   "outputs": [],
   "source": [
    "# Prediction function\n",
    "def predict_sentiment(review):\n",
    "    preprocessed_input=preprocess_text(review)\n",
    "    prediction=model.predict(preprocessed_input)\n",
    "    sentiment='Positive' if prediction[0][0] >0.5 else 'Negative'\n",
    "    return sentiment,prediction[0][0]"
   ]
  },
  {
   "cell_type": "code",
   "execution_count": null,
   "id": "8a4200e4-320c-42c5-8276-48b23e67e4bb",
   "metadata": {},
   "outputs": [],
   "source": [
    "# Example Review for prediction\n",
    "example_review=\"The movie was fantastic! The acting wa great and the plot was thrilling\"\n",
    "sentiment,score=predict_sentiment(example_review)\n",
    "print(f\"Review :{example_review}\")\n",
    "print(f\"Sentiment :{sentiment}\")\n",
    "print(f\"Prediction score: {score}\")"
   ]
  }
 ],
 "metadata": {
  "kernelspec": {
   "display_name": "Python 3 (ipykernel)",
   "language": "python",
   "name": "python3"
  },
  "language_info": {
   "codemirror_mode": {
    "name": "ipython",
    "version": 3
   },
   "file_extension": ".py",
   "mimetype": "text/x-python",
   "name": "python",
   "nbconvert_exporter": "python",
   "pygments_lexer": "ipython3",
   "version": "3.11.0"
  }
 },
 "nbformat": 4,
 "nbformat_minor": 5
}
